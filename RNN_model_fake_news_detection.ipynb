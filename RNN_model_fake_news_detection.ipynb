{
  "nbformat": 4,
  "nbformat_minor": 0,
  "metadata": {
    "colab": {
      "name": "RNN_model_fake_news_detection",
      "provenance": [],
      "collapsed_sections": [],
      "authorship_tag": "ABX9TyNZrOqlLbrkt0TRgTlbe0G+",
      "include_colab_link": true
    },
    "kernelspec": {
      "name": "python3",
      "display_name": "Python 3"
    },
    "accelerator": "GPU"
  },
  "cells": [
    {
      "cell_type": "markdown",
      "metadata": {
        "id": "view-in-github",
        "colab_type": "text"
      },
      "source": [
        "<a href=\"https://colab.research.google.com/github/iyed-01/Fake-News-Detection/blob/main/RNN_model_fake_news_detection.ipynb\" target=\"_parent\"><img src=\"https://colab.research.google.com/assets/colab-badge.svg\" alt=\"Open In Colab\"/></a>"
      ]
    },
    {
      "cell_type": "code",
      "metadata": {
        "id": "o6-2PyJA2vmI",
        "outputId": "594a863e-5184-43ab-ee22-b71a63a19a50",
        "colab": {
          "base_uri": "https://localhost:8080/"
        }
      },
      "source": [
        "from google.colab import drive\n",
        "drive.mount(\"/content/gdrive/\")"
      ],
      "execution_count": 23,
      "outputs": [
        {
          "output_type": "stream",
          "text": [
            "Drive already mounted at /content/gdrive/; to attempt to forcibly remount, call drive.mount(\"/content/gdrive/\", force_remount=True).\n"
          ],
          "name": "stdout"
        }
      ]
    },
    {
      "cell_type": "code",
      "metadata": {
        "id": "OpqfBsr218sY"
      },
      "source": [
        "import pandas as pd \n",
        "import matplotlib.pyplot as plt \n",
        "import numpy as np \n",
        " \n",
        "import re \n",
        "from tensorflow.keras.preprocessing.text import Tokenizer\n",
        "import tensorflow as tf\n",
        "from sklearn.metrics import accuracy_score\n",
        "from sklearn.model_selection import train_test_split\n",
        "from sklearn.metrics import accuracy_score, confusion_matrix, precision_score, recall_score\n",
        "import seaborn as sns \n",
        "plt.style.use('ggplot')"
      ],
      "execution_count": 24,
      "outputs": []
    },
    {
      "cell_type": "code",
      "metadata": {
        "id": "qazXYaX59WhM",
        "outputId": "b498ca41-c149-4a45-de5d-459e453be5b4",
        "colab": {
          "base_uri": "https://localhost:8080/"
        }
      },
      "source": [
        "%tensorflow_version 2.x\n",
        "import tensorflow as tf\n",
        "device_name = tf.test.gpu_device_name()\n",
        "if device_name != '/device:GPU:0':\n",
        "  raise SystemError('GPU device not found')\n",
        "print('Found GPU at: {}'.format(device_name))"
      ],
      "execution_count": 25,
      "outputs": [
        {
          "output_type": "stream",
          "text": [
            "Found GPU at: /device:GPU:0\n"
          ],
          "name": "stdout"
        }
      ]
    },
    {
      "cell_type": "code",
      "metadata": {
        "id": "qalIR1Hy19Hw"
      },
      "source": [
        "data = pd.read_csv('/content/gdrive/My Drive/fake_news_detection/news.csv')"
      ],
      "execution_count": 26,
      "outputs": []
    },
    {
      "cell_type": "markdown",
      "metadata": {
        "id": "FIIssM4g6cTK"
      },
      "source": [
        "Combining the title with the text, it is much easier to process this way."
      ]
    },
    {
      "cell_type": "code",
      "metadata": {
        "id": "GgQq6It24Inr"
      },
      "source": [
        "data[\"text_title\"] = data[\"title\"] + data[\"text\"]"
      ],
      "execution_count": 27,
      "outputs": []
    },
    {
      "cell_type": "code",
      "metadata": {
        "id": "ZIECgxo119Kq"
      },
      "source": [
        "data.drop(['Unnamed: 0','text','title'],axis = 1,inplace = True)"
      ],
      "execution_count": 28,
      "outputs": []
    },
    {
      "cell_type": "markdown",
      "metadata": {
        "id": "TllU2FeA6d0R"
      },
      "source": [
        "0 for fake news, and 1 for real news"
      ]
    },
    {
      "cell_type": "code",
      "metadata": {
        "id": "zcvrCKuz5nV_"
      },
      "source": [
        "data.label.replace('FAKE',0,inplace=True)\n",
        "data.label.replace('REAL',1,inplace=True)"
      ],
      "execution_count": 29,
      "outputs": []
    },
    {
      "cell_type": "code",
      "metadata": {
        "id": "gH8hVTMc6AJa",
        "outputId": "7316a74c-0551-48ca-a587-377d6250f913",
        "colab": {
          "base_uri": "https://localhost:8080/",
          "height": 195
        }
      },
      "source": [
        "data.head()"
      ],
      "execution_count": 30,
      "outputs": [
        {
          "output_type": "execute_result",
          "data": {
            "text/html": [
              "<div>\n",
              "<style scoped>\n",
              "    .dataframe tbody tr th:only-of-type {\n",
              "        vertical-align: middle;\n",
              "    }\n",
              "\n",
              "    .dataframe tbody tr th {\n",
              "        vertical-align: top;\n",
              "    }\n",
              "\n",
              "    .dataframe thead th {\n",
              "        text-align: right;\n",
              "    }\n",
              "</style>\n",
              "<table border=\"1\" class=\"dataframe\">\n",
              "  <thead>\n",
              "    <tr style=\"text-align: right;\">\n",
              "      <th></th>\n",
              "      <th>label</th>\n",
              "      <th>text_title</th>\n",
              "    </tr>\n",
              "  </thead>\n",
              "  <tbody>\n",
              "    <tr>\n",
              "      <th>0</th>\n",
              "      <td>0</td>\n",
              "      <td>You Can Smell Hillary’s FearDaniel Greenfield,...</td>\n",
              "    </tr>\n",
              "    <tr>\n",
              "      <th>1</th>\n",
              "      <td>0</td>\n",
              "      <td>Watch The Exact Moment Paul Ryan Committed Pol...</td>\n",
              "    </tr>\n",
              "    <tr>\n",
              "      <th>2</th>\n",
              "      <td>1</td>\n",
              "      <td>Kerry to go to Paris in gesture of sympathyU.S...</td>\n",
              "    </tr>\n",
              "    <tr>\n",
              "      <th>3</th>\n",
              "      <td>0</td>\n",
              "      <td>Bernie supporters on Twitter erupt in anger ag...</td>\n",
              "    </tr>\n",
              "    <tr>\n",
              "      <th>4</th>\n",
              "      <td>1</td>\n",
              "      <td>The Battle of New York: Why This Primary Matte...</td>\n",
              "    </tr>\n",
              "  </tbody>\n",
              "</table>\n",
              "</div>"
            ],
            "text/plain": [
              "   label                                         text_title\n",
              "0      0  You Can Smell Hillary’s FearDaniel Greenfield,...\n",
              "1      0  Watch The Exact Moment Paul Ryan Committed Pol...\n",
              "2      1  Kerry to go to Paris in gesture of sympathyU.S...\n",
              "3      0  Bernie supporters on Twitter erupt in anger ag...\n",
              "4      1  The Battle of New York: Why This Primary Matte..."
            ]
          },
          "metadata": {
            "tags": []
          },
          "execution_count": 30
        }
      ]
    },
    {
      "cell_type": "code",
      "metadata": {
        "id": "aRpD-w4k5WXo"
      },
      "source": [
        "X = data['text_title']\n",
        "y = data.label\n"
      ],
      "execution_count": 31,
      "outputs": []
    },
    {
      "cell_type": "code",
      "metadata": {
        "id": "XcfUEgiv4O0V"
      },
      "source": [
        "X_train, X_test, y_train, y_test = train_test_split(X, y,test_size=0.2, random_state=42)"
      ],
      "execution_count": 32,
      "outputs": []
    },
    {
      "cell_type": "markdown",
      "metadata": {
        "id": "INni57zD6Rbe"
      },
      "source": [
        "Normalizing our data: lower case, get rid of extra spaces, and url links."
      ]
    },
    {
      "cell_type": "code",
      "metadata": {
        "id": "K8wszwFr6KTt"
      },
      "source": [
        "def normalize(data):\n",
        "    normalized = []\n",
        "    for i in data:\n",
        "        i = i.lower()\n",
        "        # get rid of urls\n",
        "        i = re.sub('https?://\\S+|www\\.\\S+', '', i)\n",
        "        # get rid of non words and extra spaces\n",
        "        i = re.sub('\\\\W', ' ', i)\n",
        "        i = re.sub('\\n', '', i)\n",
        "        i = re.sub(' +', ' ', i)\n",
        "        i = re.sub('^ ', '', i)\n",
        "        i = re.sub(' $', '', i)\n",
        "        normalized.append(i)\n",
        "    return normalized\n",
        "\n",
        "X_train = normalize(X_train)\n",
        "X_test = normalize(X_test)"
      ],
      "execution_count": 33,
      "outputs": []
    },
    {
      "cell_type": "code",
      "metadata": {
        "id": "xdqxzHto6KWI"
      },
      "source": [
        "max_vocab = 10000\n",
        "tokenizer = Tokenizer(num_words=max_vocab)\n",
        "tokenizer.fit_on_texts(X_train)"
      ],
      "execution_count": 34,
      "outputs": []
    },
    {
      "cell_type": "markdown",
      "metadata": {
        "id": "kXw8yhAo6nUm"
      },
      "source": [
        "Convert text to vectors, our classifier only takes numerical data."
      ]
    },
    {
      "cell_type": "code",
      "metadata": {
        "id": "eMaZiXFE6KYm"
      },
      "source": [
        "# tokenize the text into vectors \n",
        "X_train = tokenizer.texts_to_sequences(X_train)\n",
        "X_test = tokenizer.texts_to_sequences(X_test)"
      ],
      "execution_count": 35,
      "outputs": []
    },
    {
      "cell_type": "markdown",
      "metadata": {
        "id": "Zi5ru5136slt"
      },
      "source": [
        "Apply padding so we have the same length for each article"
      ]
    },
    {
      "cell_type": "code",
      "metadata": {
        "id": "E2SbGpWs6KbD"
      },
      "source": [
        "X_train = tf.keras.preprocessing.sequence.pad_sequences(X_train, padding='post', maxlen=256)\n",
        "X_test = tf.keras.preprocessing.sequence.pad_sequences(X_test, padding='post', maxlen=256)"
      ],
      "execution_count": 36,
      "outputs": []
    },
    {
      "cell_type": "code",
      "metadata": {
        "id": "CvMPOgRm8Rmc",
        "outputId": "ddff0c74-9533-4e22-f74e-3ffc24d68787",
        "colab": {
          "base_uri": "https://localhost:8080/"
        }
      },
      "source": [
        "y_train"
      ],
      "execution_count": 37,
      "outputs": [
        {
          "output_type": "execute_result",
          "data": {
            "text/plain": [
              "1142    1\n",
              "2654    0\n",
              "5395    0\n",
              "1170    0\n",
              "4371    0\n",
              "       ..\n",
              "3772    1\n",
              "5191    0\n",
              "5226    0\n",
              "5390    1\n",
              "860     0\n",
              "Name: label, Length: 5068, dtype: int64"
            ]
          },
          "metadata": {
            "tags": []
          },
          "execution_count": 37
        }
      ]
    },
    {
      "cell_type": "markdown",
      "metadata": {
        "id": "hK2TEfxTIJjT"
      },
      "source": [
        "model1"
      ]
    },
    {
      "cell_type": "code",
      "metadata": {
        "id": "3FpurJ4B6wl4",
        "outputId": "168e78f8-2d02-44d3-c54c-34da33efd02b",
        "colab": {
          "base_uri": "https://localhost:8080/"
        }
      },
      "source": [
        "model = tf.keras.Sequential([\n",
        "    tf.keras.layers.Embedding(max_vocab, 32),\n",
        "    tf.keras.layers.Bidirectional(tf.keras.layers.LSTM(64,  return_sequences=True)),\n",
        "    tf.keras.layers.Bidirectional(tf.keras.layers.LSTM(16)),\n",
        "    tf.keras.layers.Dense(64, activation='relu'),\n",
        "    tf.keras.layers.Dropout(0.5),\n",
        "    tf.keras.layers.Dense(1)\n",
        "])\n",
        "\n",
        "model.summary()"
      ],
      "execution_count": 38,
      "outputs": [
        {
          "output_type": "stream",
          "text": [
            "Model: \"sequential_1\"\n",
            "_________________________________________________________________\n",
            "Layer (type)                 Output Shape              Param #   \n",
            "=================================================================\n",
            "embedding_1 (Embedding)      (None, None, 32)          320000    \n",
            "_________________________________________________________________\n",
            "bidirectional_2 (Bidirection (None, None, 128)         49664     \n",
            "_________________________________________________________________\n",
            "bidirectional_3 (Bidirection (None, 32)                18560     \n",
            "_________________________________________________________________\n",
            "dense_2 (Dense)              (None, 64)                2112      \n",
            "_________________________________________________________________\n",
            "dropout_1 (Dropout)          (None, 64)                0         \n",
            "_________________________________________________________________\n",
            "dense_3 (Dense)              (None, 1)                 65        \n",
            "=================================================================\n",
            "Total params: 390,401\n",
            "Trainable params: 390,401\n",
            "Non-trainable params: 0\n",
            "_________________________________________________________________\n"
          ],
          "name": "stdout"
        }
      ]
    },
    {
      "cell_type": "markdown",
      "metadata": {
        "id": "7d_0V5nS6zSq"
      },
      "source": [
        "We are going to use early stop, which stops when the validation loss no longer improve."
      ]
    },
    {
      "cell_type": "code",
      "metadata": {
        "id": "RNxr3CII607G",
        "outputId": "9b6a34cf-46d4-4e13-916c-5d1d406b0703",
        "colab": {
          "base_uri": "https://localhost:8080/"
        }
      },
      "source": [
        "early_stop = tf.keras.callbacks.EarlyStopping(monitor='val_loss', patience=2, restore_best_weights=True)\n",
        "model.compile(loss=tf.keras.losses.BinaryCrossentropy(from_logits=True),\n",
        "              optimizer=tf.keras.optimizers.Adam(1e-4),\n",
        "              metrics=['accuracy'])\n",
        "\n",
        "history = model.fit(X_train, y_train, epochs=10,validation_split=0.1, batch_size=30, shuffle=True, callbacks=[early_stop])"
      ],
      "execution_count": 39,
      "outputs": [
        {
          "output_type": "stream",
          "text": [
            "Epoch 1/10\n",
            "153/153 [==============================] - 7s 48ms/step - loss: 0.6896 - accuracy: 0.5010 - val_loss: 0.6798 - val_accuracy: 0.4951\n",
            "Epoch 2/10\n",
            "153/153 [==============================] - 6s 41ms/step - loss: 0.5908 - accuracy: 0.6354 - val_loss: 0.6193 - val_accuracy: 0.6746\n",
            "Epoch 3/10\n",
            "153/153 [==============================] - 6s 41ms/step - loss: 0.4298 - accuracy: 0.8255 - val_loss: 0.4067 - val_accuracy: 0.8205\n",
            "Epoch 4/10\n",
            "153/153 [==============================] - 6s 41ms/step - loss: 0.3348 - accuracy: 0.8744 - val_loss: 0.4152 - val_accuracy: 0.8107\n",
            "Epoch 5/10\n",
            "153/153 [==============================] - 6s 41ms/step - loss: 0.2786 - accuracy: 0.8974 - val_loss: 0.4195 - val_accuracy: 0.8166\n"
          ],
          "name": "stdout"
        }
      ]
    },
    {
      "cell_type": "code",
      "metadata": {
        "id": "N019fqzf64t5",
        "outputId": "62631d25-0067-4054-f357-e0104045a7ef",
        "colab": {
          "base_uri": "https://localhost:8080/",
          "height": 1000
        }
      },
      "source": [
        "history_dict = history.history\n",
        "\n",
        "acc = history_dict['accuracy']\n",
        "val_acc = history_dict['val_accuracy']\n",
        "loss = history_dict['loss']\n",
        "val_loss = history_dict['val_loss']\n",
        "epochs = history.epoch\n",
        "\n",
        "plt.figure(figsize=(12,9))\n",
        "plt.plot(epochs, loss, 'r', label='Training loss')\n",
        "plt.plot(epochs, val_loss, 'b', label='Validation loss')\n",
        "plt.title('Training and validation loss', size=20)\n",
        "plt.xlabel('Epochs', size=20)\n",
        "plt.ylabel('Loss', size=20)\n",
        "plt.legend(prop={'size': 20})\n",
        "plt.show()\n",
        "\n",
        "plt.figure(figsize=(12,9))\n",
        "plt.plot(epochs, acc, 'g', label='Training acc')\n",
        "plt.plot(epochs, val_acc, 'b', label='Validation acc')\n",
        "plt.title('Training and validation accuracy', size=20)\n",
        "plt.xlabel('Epochs', size=20)\n",
        "plt.ylabel('Accuracy', size=20)\n",
        "plt.legend(prop={'size': 20})\n",
        "plt.ylim((0.5,1))\n",
        "plt.show()"
      ],
      "execution_count": 40,
      "outputs": [
        {
          "output_type": "display_data",
          "data": {
            "image/png": "[encoded data removed]",
            "text/plain": [
              "<Figure size 864x648 with 1 Axes>"
            ]
          },
          "metadata": {
            "tags": []
          }
        },
        {
          "output_type": "display_data",
          "data": {
            "image/png": "[encoded data removed]",
            "text/plain": [
              "<Figure size 864x648 with 1 Axes>"
            ]
          },
          "metadata": {
            "tags": []
          }
        }
      ]
    },
    {
      "cell_type": "markdown",
      "metadata": {
        "id": "5uoxGBaZ67yx"
      },
      "source": [
        "Evaluate the testing set"
      ]
    },
    {
      "cell_type": "code",
      "metadata": {
        "id": "8Xnl8lna66xf",
        "outputId": "a2f37dab-9b09-4021-aa16-f60ff8df5dd4",
        "colab": {
          "base_uri": "https://localhost:8080/"
        }
      },
      "source": [
        "model.evaluate(X_test, y_test)"
      ],
      "execution_count": 41,
      "outputs": [
        {
          "output_type": "stream",
          "text": [
            "40/40 [==============================] - 1s 18ms/step - loss: 0.4016 - accuracy: 0.8295\n"
          ],
          "name": "stdout"
        },
        {
          "output_type": "execute_result",
          "data": {
            "text/plain": [
              "[0.4016246497631073, 0.8295185565948486]"
            ]
          },
          "metadata": {
            "tags": []
          },
          "execution_count": 41
        }
      ]
    },
    {
      "cell_type": "code",
      "metadata": {
        "id": "TCejYJ-h6-94"
      },
      "source": [
        "pred = model.predict(X_test)\n",
        "\n",
        "binary_predictions = []\n",
        "\n",
        "for i in pred:\n",
        "    if i >= 0.5:\n",
        "        binary_predictions.append(1)\n",
        "    else:\n",
        "        binary_predictions.append(0) "
      ],
      "execution_count": 42,
      "outputs": []
    },
    {
      "cell_type": "code",
      "metadata": {
        "id": "XNgMv6wh7AfW",
        "outputId": "f73dc2a5-f2cb-482b-a288-8a15809e9471",
        "colab": {
          "base_uri": "https://localhost:8080/"
        }
      },
      "source": [
        "print('Accuracy on testing set:', accuracy_score(binary_predictions, y_test))\n",
        "print('Precision on testing set:', precision_score(binary_predictions, y_test))\n",
        "print('Recall on testing set:', recall_score(binary_predictions, y_test))"
      ],
      "execution_count": 43,
      "outputs": [
        {
          "output_type": "stream",
          "text": [
            "Accuracy on testing set: 0.829518547750592\n",
            "Precision on testing set: 0.7793427230046949\n",
            "Recall on testing set: 0.8691099476439791\n"
          ],
          "name": "stdout"
        }
      ]
    },
    {
      "cell_type": "markdown",
      "metadata": {
        "id": "txn370hs7GoX"
      },
      "source": [
        "Confusion matrix"
      ]
    },
    {
      "cell_type": "code",
      "metadata": {
        "id": "rDxfzIuu7CFV",
        "outputId": "7538d241-9bdc-4324-d39d-48036ad27ed7",
        "colab": {
          "base_uri": "https://localhost:8080/",
          "height": 455
        }
      },
      "source": [
        "matrix = confusion_matrix(binary_predictions, y_test, normalize='all')\n",
        "plt.figure(figsize=(16, 9))\n",
        "ax= plt.subplot()\n",
        "sns.heatmap(matrix, annot=True, ax = ax)\n",
        "\n",
        "# labels, title and ticks\n",
        "ax.set_xlabel('Predicted Labels', size=20)\n",
        "ax.set_ylabel('True Labels', size=20)\n",
        "ax.set_title('Confusion Matrix', size=20) \n",
        "ax.xaxis.set_ticklabels([0,1], size=15)\n",
        "ax.yaxis.set_ticklabels([0,1], size=15)"
      ],
      "execution_count": 44,
      "outputs": [
        {
          "output_type": "execute_result",
          "data": {
            "text/plain": [
              "[Text(0, 0.5, '0'), Text(0, 1.5, '1')]"
            ]
          },
          "metadata": {
            "tags": []
          },
          "execution_count": 44
        },
        {
          "output_type": "display_data",
          "data": {
            "image/png": "[encoded data removed]",
            "text/plain": [
              "<Figure size 1152x648 with 2 Axes>"
            ]
          },
          "metadata": {
            "tags": []
          }
        }
      ]
    },
    {
      "cell_type": "code",
      "metadata": {
        "id": "eSFTxEFQHm-J",
        "outputId": "fba3de83-b253-464c-b072-cdab3235bff1",
        "colab": {
          "base_uri": "https://localhost:8080/"
        }
      },
      "source": [
        "model_save = model.to_json()\n",
        "with open(\"model.json\", \"w\") as json_file:\n",
        "    json_file.write(model_save)\n",
        "# serialize weights to HDF5\n",
        "model.save_weights(\"model.h5\")\n",
        "print(\"Saved model to disk\")"
      ],
      "execution_count": 45,
      "outputs": [
        {
          "output_type": "stream",
          "text": [
            "Saved model to disk\n"
          ],
          "name": "stdout"
        }
      ]
    }
  ]
}